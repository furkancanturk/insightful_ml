{
 "cells": [
  {
   "cell_type": "markdown",
   "metadata": {},
   "source": [
    "# CS454 Homework 4\n",
    "# CNN for MNIST Classification\n",
    "    \n",
    "    Author: Furkan CANTÜRK\n",
    "    Date: 16.12.2019"
   ]
  },
  {
   "cell_type": "code",
   "execution_count": 1,
   "metadata": {},
   "outputs": [],
   "source": [
    "import torch\n",
    "import torch.nn as nn\n",
    "import torch.nn.functional as F\n",
    "from torchvision import datasets, transforms"
   ]
  },
  {
   "cell_type": "code",
   "execution_count": 11,
   "metadata": {},
   "outputs": [],
   "source": [
    "class Net(nn.Module):\n",
    "    def __init__(self):\n",
    "        super(Net, self).__init__()\n",
    "        self.conv1 = nn.Conv2d(1, 32, 3, 1)\n",
    "        self.conv2 = nn.Conv2d(32, 64, 3, 1)\n",
    "        self.dropout1 = nn.Dropout(0.5)\n",
    "        self.fc1 = nn.Linear(12*12*64, 128)\n",
    "        self.fc2 = nn.Linear(128, 10)\n",
    "\n",
    "    def forward(self, x):\n",
    "        x = self.conv1(x)\n",
    "        x = F.relu(x)\n",
    "        x = self.conv2(x)\n",
    "        x = F.max_pool2d(x, 2)\n",
    "        x = torch.flatten(x, 1)\n",
    "        x = self.fc1(x)\n",
    "        x = F.relu(x)\n",
    "        x = self.dropout1(x)\n",
    "        x = self.fc2(x)\n",
    "        output = F.log_softmax(x, dim=1)\n",
    "        return output"
   ]
  },
  {
   "cell_type": "code",
   "execution_count": 27,
   "metadata": {},
   "outputs": [],
   "source": [
    "train_batch_size = 64\n",
    "test_batch_size = 1000\n",
    "epochs = 20\n",
    "lr = 0.01\n",
    "momentum = 0.5\n",
    "seed = 1\n",
    "log_interval = 1000\n",
    "save_model = True"
   ]
  },
  {
   "cell_type": "code",
   "execution_count": 15,
   "metadata": {},
   "outputs": [],
   "source": [
    "torch.manual_seed(seed)\n",
    "\n",
    "device = torch.device(\"cuda\" if torch.cuda.is_available() else \"cpu\")\n",
    "\n",
    "kwargs = {'num_workers': 1, 'pin_memory': True} if torch.cuda.is_available() else {}\n",
    "train_loader = torch.utils.data.DataLoader(datasets.MNIST('data', train=True, download=True,\n",
    "                    transform=transforms.Compose([transforms.ToTensor(),\n",
    "                                                  transforms.Normalize((0.1307,), (0.3081,))])),\n",
    "                    batch_size=train_batch_size, shuffle=True, **kwargs)\n",
    "\n",
    "test_loader = torch.utils.data.DataLoader(datasets.MNIST('data', train=False, transform=transforms.Compose([\n",
    "                       transforms.ToTensor(),transforms.Normalize((0.1307,), (0.3081,))])),\n",
    "\n",
    "batch_size=test_batch_size, shuffle=True, **kwargs)"
   ]
  },
  {
   "cell_type": "code",
   "execution_count": 28,
   "metadata": {},
   "outputs": [],
   "source": [
    "import torch.optim as optim\n",
    "model = Net().to(device)\n",
    "optimizer = optim.SGD(model.parameters(), lr=lr, momentum=momentum)"
   ]
  },
  {
   "cell_type": "code",
   "execution_count": 30,
   "metadata": {},
   "outputs": [
    {
     "name": "stdout",
     "output_type": "stream",
     "text": [
      "Weight update formula:\n"
     ]
    },
    {
     "data": {
      "text/latex": [
       "$\\displaystyle w:= w - \\eta \\sum_{i=1}^{n}\\delta Q_{i}(w)/n$"
      ],
      "text/plain": [
       "<IPython.core.display.Math object>"
      ]
     },
     "metadata": {},
     "output_type": "display_data"
    }
   ],
   "source": [
    "from IPython.display import display, Math, Latex\n",
    "\n",
    "print(\"Weight update formula:\")\n",
    "display(Math(r'w:= w - \\eta \\sum_{i=1}^{n}\\delta Q_{i}(w)/n'))"
   ]
  },
  {
   "cell_type": "code",
   "execution_count": 25,
   "metadata": {},
   "outputs": [],
   "source": [
    "def train(model, device, train_loader, optimizer, epoch,log_interval):\n",
    "    model.train()\n",
    "    avg_loss = 0\n",
    "    # in training loop:\n",
    "    for batch_idx, (data, target) in enumerate(train_loader):\n",
    "        data, target = data.to(device), target.to(device)\n",
    "        optimizer.zero_grad() # zero the gradient buffers\n",
    "        output = model(data)\n",
    "        loss = F.nll_loss(output, target)\n",
    "        loss.backward()\n",
    "        optimizer.step() # Does the update\n",
    "        avg_loss+=F.nll_loss(output, target, reduction='sum').item()\n",
    "        \n",
    "        if batch_idx % log_interval == 0:\n",
    "            print('Train Epoch: {} \\tLoss: {:.6f}'.format(epoch, loss.item()))\n",
    "    avg_loss/=len(train_loader.dataset)\n",
    "    return avg_loss"
   ]
  },
  {
   "cell_type": "code",
   "execution_count": 17,
   "metadata": {},
   "outputs": [],
   "source": [
    "def test(model, device, test_loader):\n",
    "    model.eval()\n",
    "    test_loss = 0\n",
    "    correct = 0\n",
    "    with torch.no_grad():\n",
    "        for data, target in test_loader:\n",
    "            data, target = data.to(device), target.to(device)\n",
    "            output = model(data)\n",
    "            test_loss += F.nll_loss(output, target, reduction='sum').item() # sum up batch loss\n",
    "            pred = output.argmax(dim=1, keepdim=True) # get the index of the max log-probability\n",
    "            correct += pred.eq(target.view_as(pred)).sum().item()\n",
    "\n",
    "    test_loss /= len(test_loader.dataset)\n",
    "\n",
    "    print('\\nTest set: Average loss: {:.4f}, Accuracy: {}/{} ({:.0f}%)\\n'.format(\n",
    "        test_loss, correct, len(test_loader.dataset),\n",
    "        100. * correct / len(test_loader.dataset)))\n",
    "    accuracy = 100. * correct / len(test_loader.dataset)\n",
    "    return test_loss,accuracy"
   ]
  },
  {
   "cell_type": "code",
   "execution_count": 29,
   "metadata": {},
   "outputs": [
    {
     "name": "stdout",
     "output_type": "stream",
     "text": [
      "Train Epoch: 1 \tLoss: 2.323387\n",
      "\n",
      "Test set: Average loss: 0.1469, Accuracy: 9559/10000 (96%)\n",
      "\n",
      "Train Epoch: 2 \tLoss: 0.129044\n",
      "\n",
      "Test set: Average loss: 0.0843, Accuracy: 9743/10000 (97%)\n",
      "\n",
      "Train Epoch: 3 \tLoss: 0.097961\n",
      "\n",
      "Test set: Average loss: 0.0628, Accuracy: 9811/10000 (98%)\n",
      "\n",
      "Train Epoch: 4 \tLoss: 0.113206\n",
      "\n",
      "Test set: Average loss: 0.0500, Accuracy: 9838/10000 (98%)\n",
      "\n",
      "Train Epoch: 5 \tLoss: 0.091987\n",
      "\n",
      "Test set: Average loss: 0.0453, Accuracy: 9847/10000 (98%)\n",
      "\n",
      "Train Epoch: 6 \tLoss: 0.024519\n",
      "\n",
      "Test set: Average loss: 0.0429, Accuracy: 9859/10000 (99%)\n",
      "\n",
      "Train Epoch: 7 \tLoss: 0.030514\n",
      "\n",
      "Test set: Average loss: 0.0390, Accuracy: 9870/10000 (99%)\n",
      "\n",
      "Train Epoch: 8 \tLoss: 0.043498\n",
      "\n",
      "Test set: Average loss: 0.0373, Accuracy: 9876/10000 (99%)\n",
      "\n",
      "Train Epoch: 9 \tLoss: 0.020513\n",
      "\n",
      "Test set: Average loss: 0.0347, Accuracy: 9882/10000 (99%)\n",
      "\n",
      "Train Epoch: 10 \tLoss: 0.055819\n",
      "\n",
      "Test set: Average loss: 0.0383, Accuracy: 9883/10000 (99%)\n",
      "\n",
      "Train Epoch: 11 \tLoss: 0.054877\n",
      "\n",
      "Test set: Average loss: 0.0345, Accuracy: 9891/10000 (99%)\n",
      "\n",
      "Train Epoch: 12 \tLoss: 0.007159\n",
      "\n",
      "Test set: Average loss: 0.0320, Accuracy: 9891/10000 (99%)\n",
      "\n",
      "Train Epoch: 13 \tLoss: 0.017979\n",
      "\n",
      "Test set: Average loss: 0.0310, Accuracy: 9897/10000 (99%)\n",
      "\n",
      "Train Epoch: 14 \tLoss: 0.077980\n",
      "\n",
      "Test set: Average loss: 0.0334, Accuracy: 9896/10000 (99%)\n",
      "\n",
      "Train Epoch: 15 \tLoss: 0.021351\n",
      "\n",
      "Test set: Average loss: 0.0300, Accuracy: 9908/10000 (99%)\n",
      "\n",
      "Train Epoch: 16 \tLoss: 0.018423\n",
      "\n",
      "Test set: Average loss: 0.0288, Accuracy: 9912/10000 (99%)\n",
      "\n",
      "Train Epoch: 17 \tLoss: 0.021721\n",
      "\n",
      "Test set: Average loss: 0.0325, Accuracy: 9900/10000 (99%)\n",
      "\n",
      "Train Epoch: 18 \tLoss: 0.007916\n",
      "\n",
      "Test set: Average loss: 0.0334, Accuracy: 9901/10000 (99%)\n",
      "\n",
      "Train Epoch: 19 \tLoss: 0.024283\n",
      "\n",
      "Test set: Average loss: 0.0293, Accuracy: 9912/10000 (99%)\n",
      "\n",
      "Train Epoch: 20 \tLoss: 0.009911\n",
      "\n",
      "Test set: Average loss: 0.0329, Accuracy: 9905/10000 (99%)\n",
      "\n"
     ]
    }
   ],
   "source": [
    "train_losses = []\n",
    "test_losses = []\n",
    "accuracy_list = []\n",
    "for epoch in range(1, epochs + 1):\n",
    "    trn_loss = train(model, device, train_loader, optimizer, epoch, log_interval)\n",
    "    test_loss,accuracy = test(model, device, test_loader)\n",
    "    train_losses.append(trn_loss)\n",
    "    test_losses.append(test_loss)\n",
    "    accuracy_list.append(accuracy)\n",
    "\n",
    "# if (save_model):\n",
    "#     torch.save(model.state_dict(),\"mnist_cnn.pt\")"
   ]
  },
  {
   "cell_type": "code",
   "execution_count": null,
   "metadata": {},
   "outputs": [],
   "source": [
    "# model = Net()\n",
    "# model.load_state_dict(torch.load('mnist_cnn2.pth', map_location=torch.device('cuda')))\n",
    "# model.eval()"
   ]
  },
  {
   "cell_type": "code",
   "execution_count": 31,
   "metadata": {},
   "outputs": [
    {
     "name": "stdout",
     "output_type": "stream",
     "text": [
      "tensor([[ 977,    0,    0,    0,    0,    0,    1,    1,    1,    0],\n",
      "        [   0, 1127,    2,    1,    1,    0,    2,    0,    2,    0],\n",
      "        [   1,    1, 1024,    0,    1,    0,    0,    4,    1,    0],\n",
      "        [   0,    0,    1, 1000,    0,    5,    0,    0,    4,    0],\n",
      "        [   0,    0,    0,    0,  974,    0,    3,    0,    1,    4],\n",
      "        [   2,    0,    0,    4,    0,  883,    3,    0,    0,    0],\n",
      "        [   5,    2,    0,    0,    1,    1,  946,    0,    3,    0],\n",
      "        [   1,    2,    6,    1,    0,    0,    0, 1014,    2,    2],\n",
      "        [   2,    0,    2,    0,    0,    0,    0,    0,  970,    0],\n",
      "        [   1,    0,    0,    1,   10,    3,    0,    1,    3,  990]],\n",
      "       dtype=torch.int32)\n"
     ]
    }
   ],
   "source": [
    "# Confusion matrix from scratch\n",
    "nb_classes = 10\n",
    "\n",
    "cm_test = torch.zeros(nb_classes, nb_classes)\n",
    "with torch.no_grad():\n",
    "    for i, (inputs, classes) in enumerate(test_loader):\n",
    "        inputs = inputs.to(device)\n",
    "        classes = classes.to(device)\n",
    "        outputs = model(inputs)\n",
    "        _, preds = torch.max(outputs, 1)\n",
    "        for t, p in zip(classes.view(-1), preds.view(-1)):\n",
    "                cm_test[t.long(), p.long()] += 1\n",
    "\n",
    "print(cm_test.int())"
   ]
  },
  {
   "cell_type": "code",
   "execution_count": 35,
   "metadata": {
    "collapsed": true
   },
   "outputs": [
    {
     "data": {
      "image/png": "[encoded data removed]",
      "text/plain": [
       "<Figure size 640x480 with 1 Axes>"
      ]
     },
     "metadata": {},
     "output_type": "display_data"
    },
    {
     "data": {
      "image/png": "[encoded data removed]",
      "text/plain": [
       "<Figure size 640x480 with 1 Axes>"
      ]
     },
     "metadata": {},
     "output_type": "display_data"
    }
   ],
   "source": [
    "import matplotlib.pyplot as plt\n",
    "%matplotlib inline\n",
    "plt.plot(train_losses,'b', label='training')\n",
    "plt.plot(test_losses,'r', label='test')\n",
    "plt.ylabel('Loss')\n",
    "plt.legend()\n",
    "plt.show()\n",
    "plt.plot(accuracy_list,'g')\n",
    "plt.ylabel('test accuracy')\n",
    "plt.show()\n"
   ]
  }
 ],
 "metadata": {
  "kernelspec": {
   "display_name": "Python 3",
   "language": "python",
   "name": "python3"
  },
  "language_info": {
   "codemirror_mode": {
    "name": "ipython",
    "version": 3
   },
   "file_extension": ".py",
   "mimetype": "text/x-python",
   "name": "python",
   "nbconvert_exporter": "python",
   "pygments_lexer": "ipython3",
   "version": "3.9.13"
  }
 },
 "nbformat": 4,
 "nbformat_minor": 2
}
